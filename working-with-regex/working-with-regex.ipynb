{
 "cells": [
  {
   "cell_type": "code",
   "execution_count": 1,
   "metadata": {},
   "outputs": [],
   "source": [
    "import re\n",
    "import requests"
   ]
  },
  {
   "cell_type": "code",
   "execution_count": 2,
   "metadata": {},
   "outputs": [],
   "source": [
    "url = \"https://www.gutenberg.org/files/2638/2638-0.txt\""
   ]
  },
  {
   "cell_type": "code",
   "execution_count": 3,
   "metadata": {},
   "outputs": [],
   "source": [
    "data = requests.get(url).text"
   ]
  },
  {
   "cell_type": "code",
   "execution_count": 4,
   "metadata": {},
   "outputs": [
    {
     "data": {
      "text/plain": [
       "'ï»¿The Project Gutenberg EBook of The Idiot, by Fyodor Dostoyevsky\\r\\n\\r\\nThis eBook is for the use of a'"
      ]
     },
     "execution_count": 4,
     "metadata": {},
     "output_type": "execute_result"
    }
   ],
   "source": [
    "data[:100]"
   ]
  },
  {
   "cell_type": "code",
   "execution_count": 11,
   "metadata": {},
   "outputs": [
    {
     "data": {
      "text/plain": [
       "610"
      ]
     },
     "execution_count": 11,
     "metadata": {},
     "output_type": "execute_result"
    }
   ],
   "source": [
    "# Discart the initial irralivent data.\n",
    "start = re.search(r\"\\*\\*\\* START OF THIS PROJECT GUTENBERG EBOOK .* \\*\\*\\*\",data ).end()\n",
    "start"
   ]
  },
  {
   "cell_type": "code",
   "execution_count": 12,
   "metadata": {},
   "outputs": [
    {
     "data": {
      "text/plain": [
       "25283"
      ]
     },
     "execution_count": 12,
     "metadata": {},
     "output_type": "execute_result"
    }
   ],
   "source": [
    "# Discart the ending irralivent data.\n",
    "stop = re.search(r\"II\", data).start()\n",
    "stop"
   ]
  },
  {
   "cell_type": "code",
   "execution_count": 13,
   "metadata": {},
   "outputs": [],
   "source": [
    "text = data[start:stop]"
   ]
  },
  {
   "cell_type": "code",
   "execution_count": 15,
   "metadata": {},
   "outputs": [
    {
     "name": "stdout",
     "output_type": "stream",
     "text": [
      "\r\n",
      "\r\n",
      "\r\n",
      "\r\n",
      "\r\n",
      "Produced by Martin Adamson, David Widger, with corrections by Andrew Sly\r\n",
      "\r\n",
      "\r\n",
      "\r\n",
      "\r\n",
      "\r\n",
      "\r\n",
      "\r\n",
      "\r\n",
      "\r\n",
      "\r\n",
      "THE IDIOT\r\n",
      "\r\n",
      "By Fyodor Dostoyevsky\r\n",
      "\r\n",
      "\r\n",
      "Translated by Eva Martin\r\n",
      "\r\n",
      "\r\n",
      "\r\n",
      "\r\n",
      "PART I\r\n",
      "\r\n",
      "I.\r\n",
      "\r\n",
      "Towards the end of November, during a thaw, at nine oâclock one morning,\r\n",
      "a train on the Warsaw and Petersburg railway was approaching the latter\r\n",
      "city at full speed. The morning was so damp and misty that it was only\r\n",
      "with great difficulty that the day succeeded in breaking; and it was\r\n",
      "impossible to distinguish anything more than a few yards away from the\r\n",
      "carriage windows.\r\n",
      "\r\n",
      "Some of the passengers by this particular train were returning from\r\n",
      "abroad; but the third-class carriages were the best filled, chiefly with\r\n",
      "insignificant persons of various occupations and degrees, picked up at\r\n",
      "the different stations nearer town. All of them seemed weary, and\r\n",
      "most of them had sleepy eyes and a shivering expression, while their\r\n",
      "complexions generally appeared to have taken on the colour of the fog\r\n"
     ]
    }
   ],
   "source": [
    "print(text[:1000])"
   ]
  },
  {
   "cell_type": "code",
   "execution_count": 22,
   "metadata": {},
   "outputs": [],
   "source": [
    "def preprocess(sentence):\n",
    "    \"\"\"\n",
    "        Replace anything other than alpha numeric with space\n",
    "    \"\"\"\n",
    "    return re.sub('[^a-zA-Z0-9]',' ',sentence).lower()"
   ]
  },
  {
   "cell_type": "code",
   "execution_count": 23,
   "metadata": {},
   "outputs": [],
   "source": [
    "book = preprocess(data)"
   ]
  },
  {
   "cell_type": "code",
   "execution_count": 24,
   "metadata": {},
   "outputs": [
    {
     "data": {
      "text/plain": [
       "'   the project gutenberg ebook of the idiot  by fyodor dostoyevsky    this ebook is for the use of anyone anywhere at no cost and with  almost no restrictions whatsoever   you may copy it  give it away or  re use it under the terms of the project gutenberg license included  with this ebook or online at www gutenberg org      title  the idiot    author  fyodor dostoyevsky    translator  eva martin    posting date  april 5  2012  ebook  2638   release date  may  2001  last updated  may 13  2017    language  english    character set encoding  utf 8        start of this project gutenberg ebook the idiot              produced by martin adamson  david widger  with corrections by andrew sly                      the idiot    by fyodor dostoyevsky      translated by eva martin          part i    i     towards the end of november  during a thaw  at nine o   clock one morning   a train on the warsaw and petersburg railway was approaching the latter  city at full speed  the morning was so damp and'"
      ]
     },
     "execution_count": 24,
     "metadata": {},
     "output_type": "execute_result"
    }
   ],
   "source": [
    "book[:1000]"
   ]
  },
  {
   "cell_type": "code",
   "execution_count": 27,
   "metadata": {},
   "outputs": [
    {
     "data": {
      "text/plain": [
       "15891"
      ]
     },
     "execution_count": 27,
     "metadata": {},
     "output_type": "execute_result"
    }
   ],
   "source": [
    "# Finding the count of \"the\"\n",
    "len(re.findall(r\"the\",book))"
   ]
  },
  {
   "cell_type": "code",
   "execution_count": 30,
   "metadata": {},
   "outputs": [
    {
     "data": {
      "text/plain": [
       "'   the project gutenberg ebook of the idiot  by fyodor dostoyevsky    this ebook is for the use of anyone anywhere at no cost and with  almost no restrictions whatsoever   you may copy it  give it away or  re use it under the terms of the project gutenberg license included  with this ebook or online at www gutenberg org      title  the idiot    author  fyodor dostoyevsky    translator  eva martin    posting date  april 5  2012  ebook  2638   release date  may  2001  last updated  may 13  2017    language  english    character set encoding  utf 8        start of this project gutenberg ebook the idiot              produced by martin adamson  david widger  with corrections by andrew sly                      the idiot    by fyodor dostoyevsky      translated by eva martin          partI  I    towards the end of november  during a thaw  at nine o   clock one morning   a train on the warsaw and petersburg railway was approaching the latter  city at full speed  the morning was so damp and mis'"
      ]
     },
     "execution_count": 30,
     "metadata": {},
     "output_type": "execute_result"
    }
   ],
   "source": [
    "#Replace i with I\n",
    "book = re.sub('\\si\\s',' I ',book)\n",
    "book[:1000]"
   ]
  },
  {
   "cell_type": "code",
   "execution_count": null,
   "metadata": {},
   "outputs": [],
   "source": []
  }
 ],
 "metadata": {
  "kernelspec": {
   "display_name": "Python 3",
   "language": "python",
   "name": "python3"
  },
  "language_info": {
   "codemirror_mode": {
    "name": "ipython",
    "version": 3
   },
   "file_extension": ".py",
   "mimetype": "text/x-python",
   "name": "python",
   "nbconvert_exporter": "python",
   "pygments_lexer": "ipython3",
   "version": "3.7.4"
  }
 },
 "nbformat": 4,
 "nbformat_minor": 2
}
